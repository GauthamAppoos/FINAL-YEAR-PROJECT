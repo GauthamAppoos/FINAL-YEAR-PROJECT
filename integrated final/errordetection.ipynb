{
 "cells": [
  {
   "cell_type": "code",
   "execution_count": 5,
   "metadata": {},
   "outputs": [],
   "source": [
    "def errordetection(cs,time):\n",
    "    import pandas as pd\n",
    "    error = False\n",
    "    df = pd.read_csv(\"cs_data\\\\\"+cs+\".csv\")\n",
    "    if((df.Energy[time]==0 and df.Predicted[time]!=0) or (df.Predicted[time]==0 and df.Energy[time]!=0) or (df.Energy[time]<0) or (df.Predicted[time]<0)):\n",
    "        error = True\n",
    "        logdf = pd.read_csv('errorlog.csv')\n",
    "        log = {'Time':[time],'Station_Id':[cs]}\n",
    "        logdf = pd.DataFrame(log)\n",
    "        logdf.set_index('Time', inplace=True)\n",
    "        logdf.to_csv('errorlog.csv', mode='a', header=False)   "
   ]
  },
  {
   "cell_type": "code",
   "execution_count": 2,
   "metadata": {},
   "outputs": [
    {
     "data": {
      "text/plain": [
       "False"
      ]
     },
     "execution_count": 2,
     "metadata": {},
     "output_type": "execute_result"
    }
   ],
   "source": []
  }
 ],
 "metadata": {
  "kernelspec": {
   "display_name": "Python 3",
   "language": "python",
   "name": "python3"
  },
  "language_info": {
   "codemirror_mode": {
    "name": "ipython",
    "version": 3
   },
   "file_extension": ".py",
   "mimetype": "text/x-python",
   "name": "python",
   "nbconvert_exporter": "python",
   "pygments_lexer": "ipython3",
   "version": "3.7.4"
  }
 },
 "nbformat": 4,
 "nbformat_minor": 4
}
