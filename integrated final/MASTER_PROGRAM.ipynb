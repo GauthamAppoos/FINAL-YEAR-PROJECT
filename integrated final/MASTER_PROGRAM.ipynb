{
 "cells": [
  {
   "cell_type": "code",
   "execution_count": 1,
   "metadata": {},
   "outputs": [],
   "source": [
    "import pandas as pd\n",
    "from ipynb.fs.full.prediction import prediction\n",
    "from ipynb.fs.full.distancefinder import distancefinder\n",
    "from ipynb.fs.full.loadbalancing import loadbalancing\n",
    "from ipynb.fs.full.errordetection import errordetection"
   ]
  },
  {
   "cell_type": "code",
   "execution_count": 2,
   "metadata": {},
   "outputs": [],
   "source": [
    "while(True):\n",
    "    state = \"newreg\"\n",
    "    \n",
    "    if(state==\"newreg\"):\n",
    "        Station_ID   = \"CS_14\"\n",
    "        Master_Name  = \"Name14\"\n",
    "        Location_Description = \"Keerampara\"\n",
    "        Coordinate1 = 10.098928\n",
    "        Coordinate2 = 76.646107\n",
    "        \n",
    "        pd.read_csv('MasterSheet.csv')\n",
    "        newData = {'Station_ID':[Station_ID],'Master Name':[Master_Name],'Location Description':[Location_Description],'Coordinate1':[Coordinate1],'Coordinate2':[Coordinate1]}\n",
    "        df = pd.DataFrame(newData)\n",
    "        df.set_index('Station_ID', inplace=True)\n",
    "        df.to_csv('MasterSheet.csv', mode='a', header=False)\n",
    "        prediction(Station_ID)\n",
    "        distancefinder()\n",
    "        \n",
    "    if(state==\"update\"):\n",
    "        Station_ID   = \"CS_14\"\n",
    "        prediction(Station_ID)\n",
    "        \n",
    "    if(state==\"request\"):\n",
    "        req_time = 12\n",
    "        req_cs   = 'CS_10'\n",
    "        loadbalancing(req_time,req_cs)\n",
    "        \n",
    "    errordetection(\"CS_15\",7)\n",
    "    \n",
    "    break;\n"
   ]
  },
  {
   "cell_type": "code",
   "execution_count": null,
   "metadata": {},
   "outputs": [],
   "source": []
  }
 ],
 "metadata": {
  "kernelspec": {
   "display_name": "Python 3",
   "language": "python",
   "name": "python3"
  },
  "language_info": {
   "codemirror_mode": {
    "name": "ipython",
    "version": 3
   },
   "file_extension": ".py",
   "mimetype": "text/x-python",
   "name": "python",
   "nbconvert_exporter": "python",
   "pygments_lexer": "ipython3",
   "version": "3.7.4"
  }
 },
 "nbformat": 4,
 "nbformat_minor": 4
}
