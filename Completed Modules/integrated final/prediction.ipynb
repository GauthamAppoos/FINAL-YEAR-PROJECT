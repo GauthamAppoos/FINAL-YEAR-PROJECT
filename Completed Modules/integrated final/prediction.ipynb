{
 "cells": [
  {
   "cell_type": "code",
   "execution_count": 3,
   "metadata": {},
   "outputs": [],
   "source": [
    "#FUNCTION\n",
    "\n",
    "def prediction(newcs):\n",
    "    import numpy as np\n",
    "    import pandas as pd\n",
    "    dataset = pd.read_csv(\"new_data\\\\\"+newcs+\".csv\")\n",
    "    dataset.set_index('Hour')\n",
    "    data = pd.DataFrame(dataset)\n",
    "    data.set_index('Hour', inplace=True)\n",
    "    rolmean = dataset.rolling(window=2).mean()\n",
    "    rolstd = dataset.rolling(window=2).std()\n",
    "    dataset_logScale = np.log(dataset)\n",
    "    movingAverage = dataset_logScale.rolling(window=2).mean()\n",
    "    movingSTD = dataset_logScale.rolling(window=2).std()\n",
    "    datasetLogScaleMinusMovingAverage = dataset_logScale - movingAverage\n",
    "    datasetLogScaleMinusMovingAverage.dropna(inplace=True)\n",
    "    datasetLogDiffShifting = dataset_logScale - dataset_logScale.shift ()\n",
    "    df=pd.DataFrame(dataset_logScale['Energy']+dataset['Energy'])\n",
    "    data[\"Predicted\"]=df[\"Energy\"]\n",
    "    data[\"Amount\"]=data[\"Predicted\"]-data[\"Energy\"]\n",
    "    data[\"Dirty_bit\"]=0\n",
    "    data.to_csv(\"cs_data\\\\\"+newcs+\".csv\")  \n"
   ]
  }
 ],
 "metadata": {
  "kernelspec": {
   "display_name": "Python 3",
   "language": "python",
   "name": "python3"
  },
  "language_info": {
   "codemirror_mode": {
    "name": "ipython",
    "version": 3
   },
   "file_extension": ".py",
   "mimetype": "text/x-python",
   "name": "python",
   "nbconvert_exporter": "python",
   "pygments_lexer": "ipython3",
   "version": "3.7.4"
  }
 },
 "nbformat": 4,
 "nbformat_minor": 4
}
