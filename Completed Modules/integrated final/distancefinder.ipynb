{
 "cells": [
  {
   "cell_type": "code",
   "execution_count": 1,
   "metadata": {},
   "outputs": [],
   "source": [
    "#FUNCTION\n",
    "\n",
    "def distancefinder():\n",
    "    import pandas as pd\n",
    "    from math import sin, cos, sqrt, atan2, radians\n",
    "    tempmaster = pd.read_csv(\"MasterSheet.csv\")\n",
    "    d = pd.read_csv(\"distance.csv\")\n",
    "    d = d.iloc[0:0]\n",
    "    d.set_index('Sl_No', inplace=True)\n",
    "    d.to_csv('distance.csv') \n",
    "    tempmaster.set_index(tempmaster.index+1, inplace=True)\n",
    "    cscount  = len(tempmaster.index)\n",
    "    R = 6373.0\n",
    "    i = 0\n",
    "    j = 0\n",
    "    sl = 1\n",
    "    while(i<cscount):\n",
    "        j = 0\n",
    "        i = i+1\n",
    "        l1 = tempmaster.at[i,'Station_ID']\n",
    "        while(j<cscount):\n",
    "            j=j+1;\n",
    "            if(i!=j):\n",
    "                l2 = tempmaster.at[j,'Station_ID']\n",
    "    \n",
    "                lat1 = radians(tempmaster.at[i,'Coordinate1'])\n",
    "                lon1 = radians(tempmaster.at[i,'Coordinate2'])\n",
    "                lat2 = radians(tempmaster.at[j,'Coordinate1'])\n",
    "                lon2 = radians(tempmaster.at[j,'Coordinate2'])\n",
    "                dlon = lon2 - lon1\n",
    "                dlat = lat2 - lat1\n",
    "                a = sin(dlat / 2)**2 + cos(lat1) * cos(lat2) * sin(dlon / 2)**2\n",
    "                c = 2 * atan2(sqrt(a), sqrt(1 - a))\n",
    "                distance = R * c\n",
    "\n",
    "                data = {'Sl_No':sl,'L1':[l1],'L2':[l2],'Distance':distance}\n",
    "                datadf = pd.DataFrame(data)\n",
    "                datadf.set_index('Sl_No', inplace=True)\n",
    "                datadf.to_csv('distance.csv', mode='a', header=False) \n",
    "                sl=sl+1\n",
    "    "
   ]
  }
 ],
 "metadata": {
  "kernelspec": {
   "display_name": "Python 3",
   "language": "python",
   "name": "python3"
  },
  "language_info": {
   "codemirror_mode": {
    "name": "ipython",
    "version": 3
   },
   "file_extension": ".py",
   "mimetype": "text/x-python",
   "name": "python",
   "nbconvert_exporter": "python",
   "pygments_lexer": "ipython3",
   "version": "3.7.4"
  }
 },
 "nbformat": 4,
 "nbformat_minor": 4
}
